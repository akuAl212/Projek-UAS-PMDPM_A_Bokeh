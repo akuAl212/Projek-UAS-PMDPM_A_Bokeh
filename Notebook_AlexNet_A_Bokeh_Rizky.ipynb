{
  "nbformat": 4,
  "nbformat_minor": 0,
  "metadata": {
    "colab": {
      "provenance": [],
      "gpuType": "T4"
    },
    "kernelspec": {
      "name": "python3",
      "display_name": "Python 3"
    },
    "language_info": {
      "name": "python"
    },
    "accelerator": "GPU"
  },
  "cells": [
    {
      "cell_type": "code",
      "execution_count": 5,
      "metadata": {
        "colab": {
          "base_uri": "https://localhost:8080/"
        },
        "id": "070vP7gv5tzD",
        "outputId": "2d755785-f69a-44fb-9bd3-f342492e3d69"
      },
      "outputs": [
        {
          "output_type": "stream",
          "name": "stdout",
          "text": [
            "Found 216 images belonging to 3 classes.\n",
            "Found 53 images belonging to 3 classes.\n"
          ]
        },
        {
          "output_type": "stream",
          "name": "stderr",
          "text": [
            "/usr/local/lib/python3.10/dist-packages/keras/src/layers/convolutional/base_conv.py:107: UserWarning: Do not pass an `input_shape`/`input_dim` argument to a layer. When using Sequential models, prefer using an `Input(shape)` object as the first layer in the model instead.\n",
            "  super().__init__(activity_regularizer=activity_regularizer, **kwargs)\n"
          ]
        },
        {
          "output_type": "stream",
          "name": "stdout",
          "text": [
            "Epoch 1/10\n"
          ]
        },
        {
          "output_type": "stream",
          "name": "stderr",
          "text": [
            "/usr/local/lib/python3.10/dist-packages/keras/src/trainers/data_adapters/py_dataset_adapter.py:122: UserWarning: Your `PyDataset` class should call `super().__init__(**kwargs)` in its constructor. `**kwargs` can include `workers`, `use_multiprocessing`, `max_queue_size`. Do not pass these arguments to `fit()`, as they will be ignored.\n",
            "  self._warn_if_super_not_called()\n"
          ]
        },
        {
          "output_type": "stream",
          "name": "stdout",
          "text": [
            "\u001b[1m6/6\u001b[0m \u001b[32m━━━━━━━━━━━━━━━━━━━━\u001b[0m\u001b[37m\u001b[0m \u001b[1m87s\u001b[0m 5s/step - accuracy: 0.3187 - loss: 1.2181 - val_accuracy: 0.4062 - val_loss: 1.0864\n",
            "Epoch 2/10\n",
            "\u001b[1m1/6\u001b[0m \u001b[32m━━━\u001b[0m\u001b[37m━━━━━━━━━━━━━━━━━\u001b[0m \u001b[1m0s\u001b[0m 30ms/step - accuracy: 0.2188 - loss: 1.1028"
          ]
        },
        {
          "output_type": "stream",
          "name": "stderr",
          "text": [
            "/usr/lib/python3.10/contextlib.py:153: UserWarning: Your input ran out of data; interrupting training. Make sure that your dataset or generator can generate at least `steps_per_epoch * epochs` batches. You may need to use the `.repeat()` function when building your dataset.\n",
            "  self.gen.throw(typ, value, traceback)\n"
          ]
        },
        {
          "output_type": "stream",
          "name": "stdout",
          "text": [
            "\b\b\b\b\b\b\b\b\b\b\b\b\b\b\b\b\b\b\b\b\b\b\b\b\b\b\b\b\b\b\b\b\b\b\b\b\b\b\b\b\b\b\b\b\b\b\b\b\b\b\b\b\b\b\b\b\b\b\b\b\b\b\b\b\b\b\b\b\b\b\b\r\u001b[1m6/6\u001b[0m \u001b[32m━━━━━━━━━━━━━━━━━━━━\u001b[0m\u001b[37m\u001b[0m \u001b[1m1s\u001b[0m 257ms/step - accuracy: 0.2188 - loss: 1.1028 - val_accuracy: 0.2857 - val_loss: 1.0965\n",
            "Epoch 3/10\n",
            "\u001b[1m6/6\u001b[0m \u001b[32m━━━━━━━━━━━━━━━━━━━━\u001b[0m\u001b[37m\u001b[0m \u001b[1m58s\u001b[0m 44ms/step - accuracy: 0.4441 - loss: 1.0905\n",
            "Epoch 4/10\n",
            "\u001b[1m6/6\u001b[0m \u001b[32m━━━━━━━━━━━━━━━━━━━━\u001b[0m\u001b[37m\u001b[0m \u001b[1m1s\u001b[0m 102ms/step - accuracy: 0.3750 - loss: 1.1584 - val_accuracy: 0.3438 - val_loss: 1.0921\n",
            "Epoch 5/10\n",
            "\u001b[1m6/6\u001b[0m \u001b[32m━━━━━━━━━━━━━━━━━━━━\u001b[0m\u001b[37m\u001b[0m \u001b[1m5s\u001b[0m 50ms/step - accuracy: 0.4020 - loss: 1.0835 - val_accuracy: 0.3333 - val_loss: 0.9750\n",
            "Epoch 6/10\n",
            "\u001b[1m6/6\u001b[0m \u001b[32m━━━━━━━━━━━━━━━━━━━━\u001b[0m\u001b[37m\u001b[0m \u001b[1m5s\u001b[0m 1s/step - accuracy: 0.4688 - loss: 0.9137  \n",
            "Epoch 7/10\n",
            "\u001b[1m6/6\u001b[0m \u001b[32m━━━━━━━━━━━━━━━━━━━━\u001b[0m\u001b[37m\u001b[0m \u001b[1m3s\u001b[0m 139ms/step - accuracy: 0.5522 - loss: 0.8488 - val_accuracy: 0.6562 - val_loss: 0.6842\n",
            "Epoch 8/10\n",
            "\u001b[1m6/6\u001b[0m \u001b[32m━━━━━━━━━━━━━━━━━━━━\u001b[0m\u001b[37m\u001b[0m \u001b[1m0s\u001b[0m 51ms/step - accuracy: 0.6250 - loss: 0.7116 - val_accuracy: 0.6190 - val_loss: 1.7610\n",
            "Epoch 9/10\n",
            "\u001b[1m6/6\u001b[0m \u001b[32m━━━━━━━━━━━━━━━━━━━━\u001b[0m\u001b[37m\u001b[0m \u001b[1m2s\u001b[0m 41ms/step - accuracy: 0.5972 - loss: 0.8001\n",
            "Epoch 10/10\n",
            "\u001b[1m6/6\u001b[0m \u001b[32m━━━━━━━━━━━━━━━━━━━━\u001b[0m\u001b[37m\u001b[0m \u001b[1m0s\u001b[0m 89ms/step - accuracy: 0.6250 - loss: 0.7447 - val_accuracy: 0.6250 - val_loss: 1.0086\n"
          ]
        },
        {
          "output_type": "stream",
          "name": "stderr",
          "text": [
            "WARNING:absl:You are saving your model as an HDF5 file via `model.save()` or `keras.saving.save_model(model)`. This file format is considered legacy. We recommend using instead the native Keras format, e.g. `model.save('my_model.keras')` or `keras.saving.save_model(model, 'my_model.keras')`. \n",
            "WARNING:absl:Compiled the loaded model, but the compiled metrics have yet to be built. `model.compile_metrics` will be empty until you train or evaluate the model.\n"
          ]
        },
        {
          "output_type": "stream",
          "name": "stdout",
          "text": [
            "\u001b[1m1/1\u001b[0m \u001b[32m━━━━━━━━━━━━━━━━━━━━\u001b[0m\u001b[37m\u001b[0m \u001b[1m1s\u001b[0m 1s/step\n",
            "Prediction for /content/drive/MyDrive/UAS PMDPM 2024/Test/Hitam/images (42).jpg: Beras Putih\n",
            "\u001b[1m1/1\u001b[0m \u001b[32m━━━━━━━━━━━━━━━━━━━━\u001b[0m\u001b[37m\u001b[0m \u001b[1m0s\u001b[0m 16ms/step\n",
            "Prediction for /content/drive/MyDrive/UAS PMDPM 2024/Test/Merah/Image_86.jpg: Beras Merah\n",
            "\u001b[1m1/1\u001b[0m \u001b[32m━━━━━━━━━━━━━━━━━━━━\u001b[0m\u001b[37m\u001b[0m \u001b[1m0s\u001b[0m 16ms/step\n",
            "Prediction for /content/drive/MyDrive/UAS PMDPM 2024/Test/Putih/images (37).jpg: Beras Putih\n"
          ]
        }
      ],
      "source": [
        "import tensorflow as tf\n",
        "from tensorflow.keras import layers, models\n",
        "import os\n",
        "import numpy as np\n",
        "import matplotlib.pyplot as plt\n",
        "from tensorflow.keras.preprocessing.image import load_img, img_to_array\n",
        "from tensorflow.keras.models import load_model\n",
        "\n",
        "img_size = 224\n",
        "class_names = ['Beras Hitam', 'Beras Merah', 'Beras Putih']\n",
        "dataset_dir = '/content/drive/MyDrive/UAS PMDPM 2024/DATASET'\n",
        "\n",
        "def preprocess_image(image_path):\n",
        "    img = load_img(image_path, target_size=(img_size, img_size))\n",
        "    img_array = img_to_array(img) / 255.0\n",
        "    return np.expand_dims(img_array, axis=0)\n",
        "\n",
        "def create_model():\n",
        "    model = models.Sequential()\n",
        "    model.add(layers.Conv2D(96, (11, 11), strides=(4, 4), activation='relu', input_shape=(img_size, img_size, 3)))\n",
        "    model.add(layers.MaxPooling2D(pool_size=(3, 3), strides=(2, 2)))\n",
        "    model.add(layers.Conv2D(256, (5, 5), activation='relu'))\n",
        "    model.add(layers.MaxPooling2D(pool_size=(3, 3), strides=(2, 2)))\n",
        "    model.add(layers.Conv2D(384, (3, 3), activation='relu'))\n",
        "    model.add(layers.Conv2D(384, (3, 3), activation='relu'))\n",
        "    model.add(layers.Conv2D(256, (3, 3), activation='relu'))\n",
        "    model.add(layers.MaxPooling2D(pool_size=(3, 3), strides=(2, 2)))\n",
        "    model.add(layers.Flatten())\n",
        "    model.add(layers.Dense(4096, activation='relu'))\n",
        "    model.add(layers.Dense(4096, activation='relu'))\n",
        "    model.add(layers.Dense(3, activation='softmax'))\n",
        "    model.compile(optimizer='adam', loss='sparse_categorical_crossentropy', metrics=['accuracy'])\n",
        "    return model\n",
        "\n",
        "def load_dataset():\n",
        "    train_datagen = tf.keras.preprocessing.image.ImageDataGenerator(rescale=1./255, validation_split=0.2)\n",
        "    train_generator = train_datagen.flow_from_directory(\n",
        "        dataset_dir,\n",
        "        target_size=(img_size, img_size),\n",
        "        batch_size=32,\n",
        "        class_mode='sparse',\n",
        "        subset='training'\n",
        "    )\n",
        "    validation_generator = train_datagen.flow_from_directory(\n",
        "        dataset_dir,\n",
        "        target_size=(img_size, img_size),\n",
        "        batch_size=32,\n",
        "        class_mode='sparse',\n",
        "        subset='validation'\n",
        "    )\n",
        "    return train_generator, validation_generator\n",
        "\n",
        "def train_model(model, train_generator, validation_generator):\n",
        "    model.fit(\n",
        "        train_generator,\n",
        "        steps_per_epoch=train_generator.samples // train_generator.batch_size,\n",
        "        epochs=10,\n",
        "        validation_data=validation_generator,\n",
        "        validation_steps=validation_generator.samples // validation_generator.batch_size\n",
        "    )\n",
        "    model.save('/content/drive/MyDrive/UAS PMDPM 2024/alexnet_model.h5')\n",
        "\n",
        "def classify_images(image_path, model, class_names):\n",
        "    img = preprocess_image(image_path)\n",
        "    predictions = model.predict(img)\n",
        "    predicted_class = class_names[np.argmax(predictions)]\n",
        "    return predicted_class\n",
        "\n",
        "train_generator, validation_generator = load_dataset()\n",
        "model = create_model()\n",
        "train_model(model, train_generator, validation_generator)\n",
        "\n",
        "model = load_model('/content/drive/MyDrive/UAS PMDPM 2024/alexnet_model.h5')\n",
        "\n",
        "image_paths = [\n",
        "    '/content/drive/MyDrive/UAS PMDPM 2024/Test/Hitam/images (42).jpg',\n",
        "    '/content/drive/MyDrive/UAS PMDPM 2024/Test/Merah/Image_86.jpg',\n",
        "    '/content/drive/MyDrive/UAS PMDPM 2024/Test/Putih/images (37).jpg'\n",
        "]\n",
        "\n",
        "for image_path in image_paths:\n",
        "    result = classify_images(image_path, model, class_names)\n",
        "    print(f\"Prediction for {image_path}: {result}\")\n"
      ]
    }
  ]
}